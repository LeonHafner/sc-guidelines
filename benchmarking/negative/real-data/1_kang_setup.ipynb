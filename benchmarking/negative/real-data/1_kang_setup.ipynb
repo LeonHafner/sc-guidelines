{
 "cells": [
  {
   "cell_type": "code",
   "execution_count": null,
   "id": "ca8d0968-65a6-4745-811a-0f214c4b2d4c",
   "metadata": {},
   "outputs": [],
   "source": [
    "import scanpy as sc\n",
    "import anndata as ad\n",
    "import numpy as np\n",
    "import seaborn as sns\n",
    "from collections import Counter\n",
    "import random"
   ]
  },
  {
   "cell_type": "code",
   "execution_count": null,
   "id": "564898e0-226c-4f38-bbe3-78c078f4697a",
   "metadata": {},
   "outputs": [],
   "source": [
    "adata = sc.read(\"real-data/data/1_raw/kang2018.h5ad\")"
   ]
  },
  {
   "cell_type": "code",
   "execution_count": null,
   "id": "9e0dae37-2f62-434e-bbb9-1284b5ccf794",
   "metadata": {},
   "outputs": [],
   "source": [
    "adata = adata[adata.obs['cell'] == 'CD4 T cells']\n",
    "adata = adata[adata.obs['multiplets'] == 'singlet']\n",
    "adata.obs['ind'] = adata.obs['ind'].astype(str)"
   ]
  },
  {
   "cell_type": "code",
   "execution_count": null,
   "id": "593a95d8-2c7e-4235-829f-a58a88b146ab",
   "metadata": {},
   "outputs": [],
   "source": [
    "adata.obs"
   ]
  },
  {
   "cell_type": "code",
   "execution_count": null,
   "id": "d3604690-3a28-4313-8542-d33658dbbfdf",
   "metadata": {},
   "outputs": [],
   "source": [
    "adatas = []\n",
    "for sample in adata.obs['ind'].unique():\n",
    "    adata_samp = adata[adata.obs['ind'] == sample]\n",
    "    stim = adata_samp.obs['stim'].tolist()\n",
    "    random.shuffle(stim)\n",
    "    adata_samp.obs['stim_resamp'] = stim\n",
    "    adatas.append(adata_samp)"
   ]
  },
  {
   "cell_type": "code",
   "execution_count": null,
   "id": "9771f770-495e-422c-aa40-c405e42f721b",
   "metadata": {},
   "outputs": [],
   "source": [
    "adata = ad.concat(adatas)"
   ]
  },
  {
   "cell_type": "code",
   "execution_count": null,
   "id": "4f497857-12a9-4542-b283-a28c582e3701",
   "metadata": {},
   "outputs": [],
   "source": [
    "adata.obs['Sample'] = adata.obs['ind'] + \"-\" + adata.obs['stim_resamp']\n",
    "adata.obs = adata.obs.rename(columns={'ind': 'Batch', 'stim_resamp': 'Condition'})\n",
    "adata.obs['Condition'] = adata.obs['Condition'].replace(to_replace=['ctrl', 'stim'], value = ['Condition1', 'Condition2'])"
   ]
  },
  {
   "cell_type": "code",
   "execution_count": null,
   "id": "da84979b-e830-4b4c-b1de-d2211ff1154f",
   "metadata": {},
   "outputs": [],
   "source": [
    "adata.obs"
   ]
  },
  {
   "cell_type": "code",
   "execution_count": null,
   "id": "aac4eb5f-11a0-4a6b-94bb-6aa0b3a6efa8",
   "metadata": {},
   "outputs": [],
   "source": [
    "adata.obs['n_counts'] = adata.X.sum(axis = 1)\n",
    "adata.obs['n_genes'] = (adata.X > 0).sum(axis=1)\n",
    "mt_gene_mask = np.flatnonzero([gene.startswith('MT-') for gene in adata.var_names])\n",
    "adata.obs['mt_frac'] = np.sum(adata[:, mt_gene_mask].X, axis=1).A1 / adata.obs['n_counts']"
   ]
  },
  {
   "cell_type": "code",
   "execution_count": null,
   "id": "9bd6d4a9-78f7-4a5f-a94b-8364c09b9a07",
   "metadata": {},
   "outputs": [],
   "source": [
    "adata.layers['counts'] = adata"
   ]
  },
  {
   "cell_type": "code",
   "execution_count": null,
   "id": "c29e4086-ed41-4ea8-93bb-af5dedcb633d",
   "metadata": {},
   "outputs": [],
   "source": [
    "adata.write(\"real-data/data/1_raw/raw.h5ad\")"
   ]
  }
 ],
 "metadata": {
  "kernelspec": {
   "display_name": "Python 3 (ipykernel)",
   "language": "python",
   "name": "python3"
  },
  "language_info": {
   "codemirror_mode": {
    "name": "ipython",
    "version": 3
   },
   "file_extension": ".py",
   "mimetype": "text/x-python",
   "name": "python",
   "nbconvert_exporter": "python",
   "pygments_lexer": "ipython3",
   "version": "3.11.4"
  }
 },
 "nbformat": 4,
 "nbformat_minor": 5
}
