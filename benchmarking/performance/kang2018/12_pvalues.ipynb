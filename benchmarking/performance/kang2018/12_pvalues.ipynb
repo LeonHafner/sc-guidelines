{
 "cells": [
  {
   "cell_type": "code",
   "execution_count": null,
   "id": "ab956179",
   "metadata": {},
   "outputs": [],
   "source": [
    "import pandas as pd\n",
    "import numpy as np\n",
    "from os.path import join, exists, basename\n",
    "import argparse"
   ]
  },
  {
   "cell_type": "code",
   "execution_count": null,
   "id": "a6117c9b",
   "metadata": {},
   "outputs": [],
   "source": [
    "dir_in = 'path/to/input-data'\n",
    "file_out = 'path/to/output-file'"
   ]
  },
  {
   "cell_type": "code",
   "execution_count": null,
   "id": "4e837f59",
   "metadata": {},
   "outputs": [],
   "source": [
    "print(f'Input: {dir_in}')\n",
    "print(f'Output: {file_out}')"
   ]
  },
  {
   "cell_type": "code",
   "execution_count": null,
   "id": "a553766f",
   "metadata": {},
   "outputs": [],
   "source": [
    "poss_files = [\n",
    "    f'5_mast/mast.tsv',\n",
    "    f'6_distinct/distinct.tsv',\n",
    "    f'7_deseq2/deseq2.tsv',\n",
    "    f'8_permutation/permutation.tsv',\n",
    "    f'9_hierarchical-bootstrapping/hierarchical-bootstrapping_adv.tsv',\n",
    "    f'10_scvi/scvi.tsv',\n",
    "    f'11_dream/dream.tsv'\n",
    "]\n",
    "poss_files"
   ]
  },
  {
   "cell_type": "code",
   "execution_count": null,
   "id": "6b27ba79",
   "metadata": {},
   "outputs": [],
   "source": [
    "files = []\n",
    "for file in poss_files:\n",
    "    if exists(join(dir_in, file)):\n",
    "        files.append(join(dir_in, file))\n",
    "    else:\n",
    "        print(f'{file} missing')\n",
    "files"
   ]
  },
  {
   "cell_type": "code",
   "execution_count": null,
   "id": "bf42f994",
   "metadata": {},
   "outputs": [],
   "source": [
    "pvalues = {}\n",
    "\n",
    "for file in files:\n",
    "    method = basename(file).split('.')[0].split('_')[0]\n",
    "    if method == 'hierarchical-bootstrapping':\n",
    "        res = pd.read_csv(file, sep='\\t', index_col=0)['pvalue']\n",
    "    elif method == 'permutation':\n",
    "        res = pd.read_csv(file, sep='\\t', index_col=0)['pvalue']\n",
    "    elif method == 'deseq2':\n",
    "        res = pd.read_csv(file, sep='\\t', index_col=0)['pvalue']\n",
    "    elif method == 'distinct':\n",
    "        res = pd.read_csv(file, sep='\\t', index_col=0)['p_val'].rename('pvalue')\n",
    "        res.index.name = None\n",
    "    elif method == 'mast':\n",
    "        output = pd.read_csv(file, sep = '\\t')\n",
    "        pval = output[np.logical_and(output['component'] == 'H',output['contrast'] == 'Conditionstim')]\n",
    "        logfc = output[np.logical_and(output['component'] == 'logFC', output['contrast'] == 'Conditionstim')]\n",
    "        res = pd.merge(pval, logfc, on='primerid', suffixes=('_pval', '_logfc')).set_index('primerid')\n",
    "        res = res['Pr(>Chisq)_pval'].rename('pvalue')\n",
    "    elif method == 'scvi':\n",
    "        res = pd.read_csv(file, sep = '\\t', index_col=0)['proba_not_de']\n",
    "    elif method == 'dream':\n",
    "        res = pd.read_csv(file, sep = '\\t', index_col=0)['P.Value']\n",
    "    else:\n",
    "        raise Exception('Wrong file', file)\n",
    "\n",
    "    pvalues[method] = res\n"
   ]
  },
  {
   "cell_type": "code",
   "execution_count": null,
   "id": "4f45c732",
   "metadata": {},
   "outputs": [],
   "source": [
    "results = pd.DataFrame.from_dict(pvalues)\n",
    "results.to_csv(file_out, sep = \"\\t\")"
   ]
  }
 ],
 "metadata": {
  "kernelspec": {
   "display_name": "Python 3 (ipykernel)",
   "language": "python",
   "name": "python3"
  },
  "language_info": {
   "codemirror_mode": {
    "name": "ipython",
    "version": 3
   },
   "file_extension": ".py",
   "mimetype": "text/x-python",
   "name": "python",
   "nbconvert_exporter": "python",
   "pygments_lexer": "ipython3",
   "version": "3.11.4"
  }
 },
 "nbformat": 4,
 "nbformat_minor": 5
}
