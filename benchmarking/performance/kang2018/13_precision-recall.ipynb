{
 "cells": [
  {
   "cell_type": "code",
   "execution_count": null,
   "id": "caec0bce-0e04-4b57-87fa-d1f2b6e6e236",
   "metadata": {},
   "outputs": [],
   "source": [
    "import pandas as pd\n",
    "import numpy as np\n",
    "from sklearn.metrics import confusion_matrix"
   ]
  },
  {
   "cell_type": "code",
   "execution_count": null,
   "id": "7024bf0f-6c11-4fcf-966b-d8de03e1d75a",
   "metadata": {},
   "outputs": [],
   "source": [
    "base_path = 'path/to/base-dir'"
   ]
  },
  {
   "cell_type": "code",
   "execution_count": null,
   "id": "8277be8b-9e2c-450f-889b-32458663a649",
   "metadata": {},
   "outputs": [],
   "source": [
    "reactome = pd.read_csv(f'{base_path}/Reactome.tsv', names=['genes']).squeeze().tolist()"
   ]
  },
  {
   "cell_type": "code",
   "execution_count": null,
   "id": "2aad4c04-1a1a-48bd-bfa0-9e5172ffa40b",
   "metadata": {},
   "outputs": [],
   "source": [
    "data = pd.read_csv(f'{base_path}/data/12_pvalues/pvalues.tsv', sep='\\t', index_col=0)"
   ]
  },
  {
   "cell_type": "code",
   "execution_count": null,
   "id": "ef546d87-648b-40a0-b7c9-3bd95d1be088",
   "metadata": {},
   "outputs": [],
   "source": [
    "data = data.fillna(1)"
   ]
  },
  {
   "cell_type": "code",
   "execution_count": null,
   "id": "648c47b8-7c78-45be-801f-7dce6c6489a8",
   "metadata": {
    "tags": []
   },
   "outputs": [],
   "source": [
    "for method in data.columns:\n",
    "    pvals = data[method].sort_values()\n",
    "\n",
    "    y_true = np.isin(pvals.index.tolist(), reactome)\n",
    "    precision = []\n",
    "    recall = [0]\n",
    "    for cutoff in range(0, len(pvals)):\n",
    "        y_pred = [1 for _ in range(cutoff + 1)] + [0 for _ in range(len(pvals) - cutoff - 1)]\n",
    "\n",
    "        (TN, FP), (FN, TP) = confusion_matrix(y_true=y_true, y_pred=y_pred)\n",
    "        precision.append(TP / (TP + FP))\n",
    "        recall.append(TP / (TP + FN))\n",
    "\n",
    "    precision = [precision[0]] + precision + [sum(y_true) / len(y_true)]\n",
    "    recall.append(1)\n",
    "    pd.DataFrame.from_dict({'precision': precision, 'recall': recall}).to_csv(f'{base_path}/data/13_precision-recall/{method}.tsv', sep='\\t', index=False)"
   ]
  }
 ],
 "metadata": {
  "kernelspec": {
   "display_name": "Python 3 (ipykernel)",
   "language": "python",
   "name": "python3"
  },
  "language_info": {
   "codemirror_mode": {
    "name": "ipython",
    "version": 3
   },
   "file_extension": ".py",
   "mimetype": "text/x-python",
   "name": "python",
   "nbconvert_exporter": "python",
   "pygments_lexer": "ipython3",
   "version": "3.11.4"
  }
 },
 "nbformat": 4,
 "nbformat_minor": 5
}
