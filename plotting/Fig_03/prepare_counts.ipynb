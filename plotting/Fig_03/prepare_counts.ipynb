{
 "cells": [
  {
   "cell_type": "code",
   "execution_count": null,
   "id": "310fadc3",
   "metadata": {},
   "outputs": [],
   "source": [
    "import scanpy as sc\n",
    "from tqdm import tqdm\n",
    "import os"
   ]
  },
  {
   "cell_type": "code",
   "execution_count": null,
   "id": "b5e1a0c1",
   "metadata": {},
   "outputs": [],
   "source": [
    "input_directory = \"path/to/input\"\n",
    "output_path = \"path/to/output\""
   ]
  },
  {
   "cell_type": "code",
   "execution_count": null,
   "id": "5d64316f-a2b0-411e-b9a3-8cea5992197e",
   "metadata": {},
   "outputs": [],
   "source": [
    "# Get files and their paths\n",
    "files = []\n",
    "for filename in os.listdir(input_directory):\n",
    "    file_path = os.path.join(input_directory, filename)\n",
    "    if os.path.isfile(file_path):\n",
    "        files.append(file_path)"
   ]
  },
  {
   "cell_type": "code",
   "execution_count": null,
   "id": "a28911e3-a659-4231-86af-683e0e9b0291",
   "metadata": {},
   "outputs": [],
   "source": [
    "# Aggregate cells per file and sample\n",
    "cells_per_sample = []\n",
    "for file in tqdm(files):\n",
    "    ad = sc.read(file)\n",
    "    cells_per_sample += ad.obs.Sample.value_counts().tolist()"
   ]
  },
  {
   "cell_type": "code",
   "execution_count": null,
   "id": "be02f37d-b29b-46a3-93d6-a49d6d6fe624",
   "metadata": {},
   "outputs": [],
   "source": [
    "# Write output\n",
    "with open(output_path, 'w') as file:\n",
    "    for item in cells_per_sample:\n",
    "        file.write(str(item) + '\\n')"
   ]
  }
 ],
 "metadata": {
  "kernelspec": {
   "display_name": "Python 3 (ipykernel)",
   "language": "python",
   "name": "python3"
  },
  "language_info": {
   "codemirror_mode": {
    "name": "ipython",
    "version": 3
   },
   "file_extension": ".py",
   "mimetype": "text/x-python",
   "name": "python",
   "nbconvert_exporter": "python",
   "pygments_lexer": "ipython3",
   "version": "3.11.4"
  }
 },
 "nbformat": 4,
 "nbformat_minor": 5
}
