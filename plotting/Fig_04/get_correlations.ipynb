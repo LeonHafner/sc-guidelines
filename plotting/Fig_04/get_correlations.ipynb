{
 "cells": [
  {
   "cell_type": "code",
   "execution_count": null,
   "id": "1284c1e4-aee9-4063-b357-73adcffc8577",
   "metadata": {},
   "outputs": [],
   "source": [
    "import scanpy as sc\n",
    "from tqdm import tqdm\n",
    "import pandas as pd\n",
    "import itertools\n",
    "from scipy.stats import spearmanr\n",
    "import random"
   ]
  },
  {
   "cell_type": "code",
   "execution_count": null,
   "id": "f4090138-06c3-4417-94e8-2ed39574dc5b",
   "metadata": {},
   "outputs": [],
   "source": [
    "base_path = 'path/to/base-dir'\n",
    "filename = 'filename.h5ad'\n",
    "\n",
    "adata = sc.read_h5ad(f'{base_path}/uncorrelated_genes_{filename}')\n",
    "\n",
    "# Select simulation\n",
    "adata.obs['Batch'] = 'sim_1'"
   ]
  },
  {
   "cell_type": "code",
   "execution_count": null,
   "id": "bc99f4f8-bb94-4ae6-ad06-079596e61b3c",
   "metadata": {},
   "outputs": [],
   "source": [
    "sample = 'Sample'\n",
    "run = 'Batch'"
   ]
  },
  {
   "cell_type": "code",
   "execution_count": null,
   "id": "d6da3043-c190-4ef4-8fa7-c3a6114f6873",
   "metadata": {},
   "outputs": [],
   "source": [
    "result_intra = []\n",
    "\n",
    "# Iterate over samples\n",
    "for samp in adata.obs[sample].unique():\n",
    "    adata_samp = adata[adata.obs[sample] == samp]\n",
    "    print(samp, adata_samp.shape[0])\n",
    "    # Iterate over runs\n",
    "    for ct in adata_samp.obs[run].unique():\n",
    "        adata_samp_ct = adata_samp[adata_samp.obs[run] == ct]\n",
    "        print(\"\\t\", ct, adata_samp_ct.shape[0])\n",
    "        for i, j in itertools.combinations(range(adata_samp_ct.n_obs), r=2):\n",
    "            result_intra.append(('intra', ct, spearmanr(adata_samp_ct.X[i], adata_samp_ct.X[j]).statistic))\n"
   ]
  },
  {
   "cell_type": "code",
   "execution_count": null,
   "id": "ff8e1006-563c-4800-9eec-976e03b511cd",
   "metadata": {},
   "outputs": [],
   "source": [
    "len(result_intra)"
   ]
  },
  {
   "cell_type": "code",
   "execution_count": null,
   "id": "363f1c02-0fae-49f7-a232-d3991c8ef737",
   "metadata": {},
   "outputs": [],
   "source": [
    "result_inter = []\n",
    "for _ in tqdm(range(1000)):\n",
    "    for ct in adata.obs[run].unique():\n",
    "        cells = []\n",
    "        adata_ct = adata[adata.obs[run] == ct]\n",
    "        for samp in adata_ct.obs[sample].unique():\n",
    "            adata_ct_samp = adata_ct[adata_ct.obs[sample] == samp]\n",
    "            cells.append(adata_ct_samp.X[random.randint(0, adata_ct_samp.n_obs - 1), :])\n",
    "        for one, two in itertools.combinations(cells, r=2):\n",
    "            result_inter.append(('inter', ct, spearmanr(one, two).statistic))"
   ]
  },
  {
   "cell_type": "code",
   "execution_count": null,
   "id": "ac82fe5f-c0a7-4009-b72a-b7805a85f468",
   "metadata": {},
   "outputs": [],
   "source": [
    "len(result_inter)"
   ]
  },
  {
   "cell_type": "code",
   "execution_count": null,
   "id": "26783c76-e843-46ed-b9b3-33cb4bdc19cf",
   "metadata": {},
   "outputs": [],
   "source": [
    "result = result_intra + result_inter"
   ]
  },
  {
   "cell_type": "code",
   "execution_count": null,
   "id": "f5bf7e09-03a2-4b62-be39-087b7847c762",
   "metadata": {},
   "outputs": [],
   "source": [
    "len(result)"
   ]
  },
  {
   "cell_type": "code",
   "execution_count": null,
   "id": "7e862474-2465-4525-86ea-b9eaf4fed176",
   "metadata": {},
   "outputs": [],
   "source": [
    "pd.DataFrame(result, columns=['type', 'run', 'correlation']).to_csv(f'{base_path}/correlations_{filename.split(\".\")[0]}.tsv', sep='\\t', index=False)"
   ]
  }
 ],
 "metadata": {
  "kernelspec": {
   "display_name": "Python 3 (ipykernel)",
   "language": "python",
   "name": "python3"
  },
  "language_info": {
   "codemirror_mode": {
    "name": "ipython",
    "version": 3
   },
   "file_extension": ".py",
   "mimetype": "text/x-python",
   "name": "python",
   "nbconvert_exporter": "python",
   "pygments_lexer": "ipython3",
   "version": "3.11.4"
  }
 },
 "nbformat": 4,
 "nbformat_minor": 5
}
