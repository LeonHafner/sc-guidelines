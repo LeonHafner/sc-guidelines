{
 "cells": [
  {
   "cell_type": "code",
   "execution_count": null,
   "id": "1006aec6-f25d-49fd-a982-f508cb733d59",
   "metadata": {},
   "outputs": [],
   "source": [
    "import pandas as pd\n",
    "from os import listdir\n",
    "from os.path import isfile, join"
   ]
  },
  {
   "cell_type": "code",
   "execution_count": null,
   "id": "a51c0a24-1a7b-4d00-8aec-f28d880a4031",
   "metadata": {},
   "outputs": [],
   "source": [
    "base_path = 'path/to/base-dir'\n",
    "\n",
    "path_genes_fixed = f'{base_path}/genes_fixed/results'\n",
    "path_cells_fixed = f'{base_path}/cells_fixed/results'"
   ]
  },
  {
   "cell_type": "code",
   "execution_count": null,
   "id": "66cdc25e-4914-4845-a194-9e61aeda059e",
   "metadata": {},
   "outputs": [],
   "source": [
    "files_genes_fixed = [f for f in listdir(path_genes_fixed) if isfile(join(path_genes_fixed, f))]\n",
    "files_cells_fixed = [f for f in listdir(path_cells_fixed) if isfile(join(path_cells_fixed, f))]"
   ]
  },
  {
   "cell_type": "code",
   "execution_count": null,
   "id": "837968a4-f6c3-489b-ae14-dbff77aa51f4",
   "metadata": {},
   "outputs": [],
   "source": [
    "genes_fixed = [pd.read_csv(f'{path_genes_fixed}/{file}', sep='\\t', index_col=0) for file in files_genes_fixed]\n",
    "genes_fixed = pd.concat(genes_fixed)\n",
    "\n",
    "cells_fixed = [pd.read_csv(f'{path_cells_fixed}/{file}', sep='\\t', index_col=0) for file in files_cells_fixed]\n",
    "cells_fixed = pd.concat(cells_fixed)"
   ]
  },
  {
   "cell_type": "code",
   "execution_count": null,
   "id": "00cbe280-d26b-406c-811d-f85914ca3f2c",
   "metadata": {},
   "outputs": [],
   "source": [
    "# Get only genes and cells column\n",
    "genes_fixed['n_genes'] = [int(ident.split('_')[1]) for ident in genes_fixed.index]\n",
    "genes_fixed['n_cells'] = [int(ident.split('_')[2]) for ident in genes_fixed.index]\n",
    "\n",
    "cells_fixed['n_genes'] = [int(ident.split('_')[1]) for ident in cells_fixed.index]\n",
    "cells_fixed['n_cells'] = [int(ident.split('_')[2]) for ident in cells_fixed.index]"
   ]
  },
  {
   "cell_type": "code",
   "execution_count": null,
   "id": "487e9e63-3441-4122-99bc-7388fbb7dd05",
   "metadata": {},
   "outputs": [],
   "source": [
    "categories = [\n",
    "    'sim',\n",
    "    'preprocess',\n",
    "    'pseudobulk',\n",
    "    'de-genes',\n",
    "    'mast',\n",
    "    'distinct',\n",
    "    'deseq2',\n",
    "    'permutation',\n",
    "    'hierarchical-bootstrapping',\n",
    "    'scvi',\n",
    "    'dream'\n",
    "]"
   ]
  },
  {
   "cell_type": "code",
   "execution_count": null,
   "id": "bf880c4a-dabf-46c0-988d-34ed7287d963",
   "metadata": {},
   "outputs": [],
   "source": [
    "for category in categories:\n",
    "    genes_fixed[category] = genes_fixed[f'{category}_end'] - genes_fixed[f'{category}_start']\n",
    "    genes_fixed = genes_fixed.drop(columns=[f'{category}_end', f'{category}_start'])\n",
    "    \n",
    "    cells_fixed[category] = cells_fixed[f'{category}_end'] - cells_fixed[f'{category}_start']\n",
    "    cells_fixed = cells_fixed.drop(columns=[f'{category}_end', f'{category}_start'])"
   ]
  },
  {
   "cell_type": "code",
   "execution_count": null,
   "id": "eac15e6c-d212-442d-bdbc-a67ed2140ca9",
   "metadata": {},
   "outputs": [],
   "source": [
    "genes_fixed = genes_fixed.sort_values(by=['n_genes', 'n_cells'])\n",
    "\n",
    "cells_fixed = cells_fixed.sort_values(by=['n_genes', 'n_cells'])"
   ]
  },
  {
   "cell_type": "code",
   "execution_count": null,
   "id": "ea46ba76-4114-401b-aeb9-5c1636ea6166",
   "metadata": {},
   "outputs": [],
   "source": [
    "results_genes_fixed_mean = genes_fixed.groupby(['n_genes', 'n_cells']).mean().reset_index()\n",
    "results_genes_fixed_median = genes_fixed.groupby(['n_genes', 'n_cells']).median().reset_index()\n",
    "\n",
    "results_cells_fixed_mean = cells_fixed.groupby(['n_genes', 'n_cells']).mean().reset_index()\n",
    "results_cells_fixed_median = cells_fixed.groupby(['n_genes', 'n_cells']).median().reset_index()"
   ]
  },
  {
   "cell_type": "code",
   "execution_count": null,
   "id": "da3e8129-d518-4673-bdfb-c24772cb7468",
   "metadata": {},
   "outputs": [],
   "source": [
    "results_genes_fixed_mean.to_csv(f'{base_path}/results_genes_fixed_mean.tsv', sep='\\t', index=False)\n",
    "results_genes_fixed_median.to_csv(f'{base_path}/results_genes_fixed_median.tsv', sep='\\t', index=False)\n",
    "\n",
    "results_cells_fixed_mean.to_csv(f'{base_path}/results_cells_fixed_mean.tsv', sep='\\t', index=False)\n",
    "results_cells_fixed_median.to_csv(f'{base_path}/results_cells_fixed_median.tsv', sep='\\t', index=False)"
   ]
  }
 ],
 "metadata": {
  "kernelspec": {
   "display_name": "Python 3 (ipykernel)",
   "language": "python",
   "name": "python3"
  },
  "language_info": {
   "codemirror_mode": {
    "name": "ipython",
    "version": 3
   },
   "file_extension": ".py",
   "mimetype": "text/x-python",
   "name": "python",
   "nbconvert_exporter": "python",
   "pygments_lexer": "ipython3",
   "version": "3.11.4"
  }
 },
 "nbformat": 4,
 "nbformat_minor": 5
}
