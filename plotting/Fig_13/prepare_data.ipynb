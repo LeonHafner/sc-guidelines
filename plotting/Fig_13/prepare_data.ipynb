{
 "cells": [
  {
   "cell_type": "code",
   "execution_count": null,
   "id": "46c5ff2b-bbb7-4c1d-b298-037cb32aa778",
   "metadata": {},
   "outputs": [],
   "source": [
    "import pandas as pd\n",
    "import numpy as np\n",
    "from tqdm import tqdm\n",
    "import argparse\n",
    "from tqdm import tqdm"
   ]
  },
  {
   "cell_type": "code",
   "execution_count": null,
   "id": "ce51505a-a75e-4fe3-83af-ca4accbf00a1",
   "metadata": {},
   "outputs": [],
   "source": [
    "parser = argparse.ArgumentParser(\n",
    "                    prog='false-positive count computation')\n",
    "\n",
    "parser.add_argument('--pvalues_adj', help='input pvalues adjusted [.tsv]', required=True)\n",
    "parser.add_argument('--output', help = \"Output file\", required=True)\n",
    "\n",
    "args = parser.parse_args()\n",
    "path_pvalues = args.pvalues\n",
    "output = args.output"
   ]
  },
  {
   "cell_type": "code",
   "execution_count": null,
   "id": "1f70f6e2-0093-4879-994f-48fa6e99d293",
   "metadata": {},
   "outputs": [],
   "source": [
    "print(f'p-values: {path_pvalues}')\n",
    "print(f'Output: {output}')"
   ]
  },
  {
   "cell_type": "code",
   "execution_count": null,
   "id": "f95c3a62-e7c4-4a20-bccb-64ac0ce0c653",
   "metadata": {},
   "outputs": [],
   "source": [
    "pvalues = pd.read_csv(path_pvalues, sep='\\t', index_col=0)\n",
    "cut_offs = sorted(list(set(pvalues.stack().dropna().tolist())))"
   ]
  },
  {
   "cell_type": "code",
   "execution_count": null,
   "id": "44d1d936-1487-4ed2-8230-f3396752ee52",
   "metadata": {},
   "outputs": [],
   "source": [
    "prc = {}\n",
    "for method in tqdm(pvalues):\n",
    "    print(method)\n",
    "    false_positives = []\n",
    "    \n",
    "    for pvalue in tqdm(cut_offs):\n",
    "        false_positives.append(np.sum(pvalues[method].to_numpy() <= pvalue))\n",
    "        \n",
    "    pd.DataFrame.from_dict({'cutoff': cut_offs, 'false_positives': false_positives}).to_csv(f'{output}/fps_{method}.tsv', sep='\\t', index=False)"
   ]
  }
 ],
 "metadata": {
  "kernelspec": {
   "display_name": "Python 3 (ipykernel)",
   "language": "python",
   "name": "python3"
  },
  "language_info": {
   "codemirror_mode": {
    "name": "ipython",
    "version": 3
   },
   "file_extension": ".py",
   "mimetype": "text/x-python",
   "name": "python",
   "nbconvert_exporter": "python",
   "pygments_lexer": "ipython3",
   "version": "3.11.4"
  }
 },
 "nbformat": 4,
 "nbformat_minor": 5
}
