{
 "cells": [
  {
   "cell_type": "code",
   "execution_count": null,
   "id": "63ad1721-0790-465f-bba5-8a4a77221736",
   "metadata": {},
   "outputs": [],
   "source": [
    "import scanpy as sc\n",
    "from tqdm import tqdm\n",
    "import random\n",
    "from scipy.stats import spearmanr"
   ]
  },
  {
   "cell_type": "code",
   "execution_count": null,
   "id": "c7516001-c0b1-4adc-86f0-fc87d696599e",
   "metadata": {},
   "outputs": [],
   "source": [
    "base_path = 'path/to/base-dir'\n",
    "filename = 'filename.h5ad'\n",
    "\n",
    "adata = sc.read_h5ad(f'{base_path}/{filename}')\n",
    "\n",
    "# adata_final is never reduced and used to get the final data\n",
    "adata_final = adata.copy()"
   ]
  },
  {
   "cell_type": "code",
   "execution_count": null,
   "id": "f0f47f2a-2bda-4224-895f-073862225a99",
   "metadata": {},
   "outputs": [],
   "source": [
    "correlations = abs(spearmanr(adata.X[:, 0], adata.X[:,1:]).statistic)"
   ]
  },
  {
   "cell_type": "code",
   "execution_count": null,
   "id": "22445e55-fb8a-4967-85e5-f1abc095788a",
   "metadata": {},
   "outputs": [],
   "source": [
    "uncorrelated_genes = []\n",
    "for _ in tqdm(range(500)):\n",
    "    genename = random.sample(adata.var_names.tolist(), k=1)[0]\n",
    "    uncorrelated_genes.append(genename)\n",
    "    gene_index = adata.var_names.tolist().index(genename)\n",
    "    \n",
    "    correlation = correlations[gene_index, :]\n",
    "    \n",
    "    adata = adata[:, correlation < 0.1]\n",
    "    correlations = correlations[correlation < 0.1, :][:, correlation < 0.1]\n",
    "    if adata.shape[1] == 0:\n",
    "        break"
   ]
  },
  {
   "cell_type": "code",
   "execution_count": null,
   "id": "b142f6e0-a3fb-416c-a4c1-616a271032ff",
   "metadata": {},
   "outputs": [],
   "source": [
    "adata = adata_final[:, uncorrelated_genes]"
   ]
  },
  {
   "cell_type": "code",
   "execution_count": null,
   "id": "72ea740d-8b8e-481e-97f6-535d4e3a01f0",
   "metadata": {},
   "outputs": [],
   "source": [
    "adata.write_h5ad(f'{base_path}/uncorrelated_genes_{filename}')"
   ]
  }
 ],
 "metadata": {
  "kernelspec": {
   "display_name": "Python 3 (ipykernel)",
   "language": "python",
   "name": "python3"
  },
  "language_info": {
   "codemirror_mode": {
    "name": "ipython",
    "version": 3
   },
   "file_extension": ".py",
   "mimetype": "text/x-python",
   "name": "python",
   "nbconvert_exporter": "python",
   "pygments_lexer": "ipython3",
   "version": "3.11.4"
  }
 },
 "nbformat": 4,
 "nbformat_minor": 5
}
