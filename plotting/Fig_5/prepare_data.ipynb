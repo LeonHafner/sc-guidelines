{
 "cells": [
  {
   "cell_type": "code",
   "execution_count": null,
   "id": "224d1dd3-9e28-4830-b5a0-043eb63a5aa6",
   "metadata": {},
   "outputs": [],
   "source": [
    "import pandas as pd\n",
    "import numpy as np\n",
    "import argparse\n",
    "from tqdm import tqdm"
   ]
  },
  {
   "cell_type": "code",
   "execution_count": null,
   "id": "e71c6188-2991-42b4-9664-4ff4c5756347",
   "metadata": {},
   "outputs": [],
   "source": [
    "parser = argparse.ArgumentParser(\n",
    "                    prog='false-positive rate computation')\n",
    "\n",
    "parser.add_argument('--pvalues_adj', help='input pvalues adjusted [.tsv]', required=True)\n",
    "parser.add_argument('--output', help = \"Output file\", required=True)\n",
    "\n",
    "args = parser.parse_args()\n",
    "path_pvalues = args.pvalues\n",
    "output = args.output"
   ]
  },
  {
   "cell_type": "code",
   "execution_count": null,
   "id": "fd5fb7ce-4a92-411c-955c-c6e31e1e1a00",
   "metadata": {},
   "outputs": [],
   "source": [
    "print(f'p-values: {path_pvalues}')\n",
    "print(f'Output: {output}')"
   ]
  },
  {
   "cell_type": "code",
   "execution_count": null,
   "id": "ae44193c-0318-4deb-b4aa-f496a2436c76",
   "metadata": {},
   "outputs": [],
   "source": [
    "pvalues = pd.read_csv(path_pvalues, sep='\\t', index_col=0)\n",
    "cut_offs = sorted(list(set(pvalues.stack().dropna().tolist())))"
   ]
  },
  {
   "cell_type": "code",
   "execution_count": null,
   "id": "5c9a3687-c4b7-4836-9567-0d8c30cfa73b",
   "metadata": {},
   "outputs": [],
   "source": [
    "results = {'pvals': cut_offs}\n",
    "for method in pvalues:\n",
    "    print(method)\n",
    "    fpr = []\n",
    "    \n",
    "    for pvalue in tqdm(cut_offs):\n",
    "        fp = np.sum(pvalues[method].to_numpy() <= pvalue)\n",
    "        tn = len(pvalues[method]) - fp\n",
    "        fpr.append(fp / (fp + tn))\n",
    "        \n",
    "    results[method] = fpr\n",
    "pd.DataFrame(results).to_csv(f'{output}/plotting_data.tsv', sep = \"\\t\", index = False)"
   ]
  }
 ],
 "metadata": {
  "kernelspec": {
   "display_name": "Python 3 (ipykernel)",
   "language": "python",
   "name": "python3"
  },
  "language_info": {
   "codemirror_mode": {
    "name": "ipython",
    "version": 3
   },
   "file_extension": ".py",
   "mimetype": "text/x-python",
   "name": "python",
   "nbconvert_exporter": "python",
   "pygments_lexer": "ipython3",
   "version": "3.11.4"
  }
 },
 "nbformat": 4,
 "nbformat_minor": 5
}
